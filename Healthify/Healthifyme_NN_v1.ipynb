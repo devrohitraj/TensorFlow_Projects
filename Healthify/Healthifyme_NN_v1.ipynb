{
 "cells": [
  {
   "cell_type": "markdown",
   "metadata": {},
   "source": [
    "# Neural Network approach to solve imbalance data classification (Without HyperParameter tuning)"
   ]
  },
  {
   "cell_type": "code",
   "execution_count": 1,
   "metadata": {},
   "outputs": [
    {
     "name": "stderr",
     "output_type": "stream",
     "text": [
      "Using TensorFlow backend.\n"
     ]
    }
   ],
   "source": [
    "import numpy as np\n",
    "import matplotlib.pyplot as plt\n",
    "import seaborn as sns\n",
    "import random\n",
    "import scipy\n",
    "import json\n",
    "import os\n",
    "import pickle\n",
    "import pandas as pd\n",
    "\n",
    "import tensorflow as tf\n",
    "import keras\n",
    "from keras import metrics\n",
    "from keras.models import Sequential\n",
    "from keras.layers import Dense, Dropout, Activation\n",
    "from keras.layers.normalization import BatchNormalization\n",
    "from keras.optimizers import SGD\n",
    "from keras.models import load_model\n",
    "from keras.layers import LSTM\n",
    "from keras.layers.embeddings import Embedding\n",
    "from keras.preprocessing import sequence\n",
    "\n",
    "from keras.layers.convolutional import Conv1D\n",
    "from keras.layers.convolutional import MaxPooling1D\n",
    "\n",
    "# things we need for Tensorflow\n",
    "from sklearn.utils import class_weight\n",
    "from sklearn.metrics import confusion_matrix\n",
    "from sklearn.metrics import roc_curve, roc_auc_score\n",
    "from sklearn.model_selection import cross_val_score\n",
    "from sklearn.preprocessing import LabelEncoder\n",
    "from sklearn.model_selection import StratifiedKFold\n",
    "from sklearn.preprocessing import StandardScaler\n",
    "from sklearn.pipeline import Pipeline\n",
    "from sklearn.model_selection import train_test_split\n",
    "from sklearn.metrics import roc_curve, roc_auc_score"
   ]
  },
  {
   "cell_type": "code",
   "execution_count": 18,
   "metadata": {
    "collapsed": true
   },
   "outputs": [],
   "source": [
    "keras_model_path = \"models/keras_model.h5\"\n",
    "keras_model_weight_file = \"models/keras_model_weight.h5\""
   ]
  },
  {
   "cell_type": "code",
   "execution_count": 19,
   "metadata": {},
   "outputs": [
    {
     "data": {
      "text/html": [
       "<div>\n",
       "<style>\n",
       "    .dataframe thead tr:only-child th {\n",
       "        text-align: right;\n",
       "    }\n",
       "\n",
       "    .dataframe thead th {\n",
       "        text-align: left;\n",
       "    }\n",
       "\n",
       "    .dataframe tbody tr th {\n",
       "        vertical-align: top;\n",
       "    }\n",
       "</style>\n",
       "<table border=\"1\" class=\"dataframe\">\n",
       "  <thead>\n",
       "    <tr style=\"text-align: right;\">\n",
       "      <th></th>\n",
       "      <th>age</th>\n",
       "      <th>start_bmi</th>\n",
       "      <th>activity_factor</th>\n",
       "      <th>hypothyroid</th>\n",
       "      <th>diabetes</th>\n",
       "      <th>pcos</th>\n",
       "      <th>physical</th>\n",
       "      <th>hypertension</th>\n",
       "      <th>high_blood_pressure</th>\n",
       "      <th>cholesterol</th>\n",
       "      <th>medical_conditions</th>\n",
       "      <th>devicebrand</th>\n",
       "      <th>paid</th>\n",
       "      <th>gender_female</th>\n",
       "      <th>gender_male</th>\n",
       "      <th>OS_android</th>\n",
       "      <th>OS_both</th>\n",
       "      <th>OS_ios</th>\n",
       "    </tr>\n",
       "  </thead>\n",
       "  <tbody>\n",
       "    <tr>\n",
       "      <th>0</th>\n",
       "      <td>44.0</td>\n",
       "      <td>32.7</td>\n",
       "      <td>1.725</td>\n",
       "      <td>0</td>\n",
       "      <td>0</td>\n",
       "      <td>0</td>\n",
       "      <td>0</td>\n",
       "      <td>0</td>\n",
       "      <td>0</td>\n",
       "      <td>0</td>\n",
       "      <td>0</td>\n",
       "      <td>3</td>\n",
       "      <td>0</td>\n",
       "      <td>0</td>\n",
       "      <td>1</td>\n",
       "      <td>0</td>\n",
       "      <td>0</td>\n",
       "      <td>1</td>\n",
       "    </tr>\n",
       "    <tr>\n",
       "      <th>1</th>\n",
       "      <td>63.0</td>\n",
       "      <td>33.7</td>\n",
       "      <td>1.200</td>\n",
       "      <td>0</td>\n",
       "      <td>0</td>\n",
       "      <td>0</td>\n",
       "      <td>0</td>\n",
       "      <td>0</td>\n",
       "      <td>0</td>\n",
       "      <td>0</td>\n",
       "      <td>0</td>\n",
       "      <td>4</td>\n",
       "      <td>0</td>\n",
       "      <td>1</td>\n",
       "      <td>0</td>\n",
       "      <td>1</td>\n",
       "      <td>0</td>\n",
       "      <td>0</td>\n",
       "    </tr>\n",
       "    <tr>\n",
       "      <th>3</th>\n",
       "      <td>107.0</td>\n",
       "      <td>34.9</td>\n",
       "      <td>1.200</td>\n",
       "      <td>0</td>\n",
       "      <td>0</td>\n",
       "      <td>0</td>\n",
       "      <td>0</td>\n",
       "      <td>0</td>\n",
       "      <td>0</td>\n",
       "      <td>0</td>\n",
       "      <td>0</td>\n",
       "      <td>4</td>\n",
       "      <td>0</td>\n",
       "      <td>0</td>\n",
       "      <td>1</td>\n",
       "      <td>1</td>\n",
       "      <td>0</td>\n",
       "      <td>0</td>\n",
       "    </tr>\n",
       "    <tr>\n",
       "      <th>4</th>\n",
       "      <td>98.0</td>\n",
       "      <td>37.8</td>\n",
       "      <td>1.375</td>\n",
       "      <td>1</td>\n",
       "      <td>0</td>\n",
       "      <td>0</td>\n",
       "      <td>0</td>\n",
       "      <td>0</td>\n",
       "      <td>0</td>\n",
       "      <td>0</td>\n",
       "      <td>1</td>\n",
       "      <td>1</td>\n",
       "      <td>0</td>\n",
       "      <td>1</td>\n",
       "      <td>0</td>\n",
       "      <td>1</td>\n",
       "      <td>0</td>\n",
       "      <td>0</td>\n",
       "    </tr>\n",
       "    <tr>\n",
       "      <th>5</th>\n",
       "      <td>85.0</td>\n",
       "      <td>28.6</td>\n",
       "      <td>1.550</td>\n",
       "      <td>0</td>\n",
       "      <td>0</td>\n",
       "      <td>0</td>\n",
       "      <td>0</td>\n",
       "      <td>0</td>\n",
       "      <td>0</td>\n",
       "      <td>0</td>\n",
       "      <td>0</td>\n",
       "      <td>4</td>\n",
       "      <td>0</td>\n",
       "      <td>0</td>\n",
       "      <td>1</td>\n",
       "      <td>1</td>\n",
       "      <td>0</td>\n",
       "      <td>0</td>\n",
       "    </tr>\n",
       "  </tbody>\n",
       "</table>\n",
       "</div>"
      ],
      "text/plain": [
       "     age  start_bmi  activity_factor  hypothyroid  diabetes  pcos  physical  \\\n",
       "0   44.0       32.7            1.725            0         0     0         0   \n",
       "1   63.0       33.7            1.200            0         0     0         0   \n",
       "3  107.0       34.9            1.200            0         0     0         0   \n",
       "4   98.0       37.8            1.375            1         0     0         0   \n",
       "5   85.0       28.6            1.550            0         0     0         0   \n",
       "\n",
       "   hypertension  high_blood_pressure  cholesterol  medical_conditions  \\\n",
       "0             0                    0            0                   0   \n",
       "1             0                    0            0                   0   \n",
       "3             0                    0            0                   0   \n",
       "4             0                    0            0                   1   \n",
       "5             0                    0            0                   0   \n",
       "\n",
       "   devicebrand  paid  gender_female  gender_male  OS_android  OS_both  OS_ios  \n",
       "0            3     0              0            1           0        0       1  \n",
       "1            4     0              1            0           1        0       0  \n",
       "3            4     0              0            1           1        0       0  \n",
       "4            1     0              1            0           1        0       0  \n",
       "5            4     0              0            1           1        0       0  "
      ]
     },
     "execution_count": 19,
     "metadata": {},
     "output_type": "execute_result"
    }
   ],
   "source": [
    "# read preprocessed data from pickle\n",
    "with open('df_with_dummies.pkl', 'rb') as f:\n",
    "    df_with_dummies = pickle.load(f)\n",
    "df_with_dummies.head()"
   ]
  },
  {
   "cell_type": "code",
   "execution_count": 20,
   "metadata": {
    "collapsed": true
   },
   "outputs": [],
   "source": [
    "# Split the data into features and target label\n",
    "paid_raw = df_with_dummies['paid']\n",
    "features_raw = df_with_dummies.drop('paid', axis = 1)"
   ]
  },
  {
   "cell_type": "code",
   "execution_count": 27,
   "metadata": {},
   "outputs": [
    {
     "name": "stdout",
     "output_type": "stream",
     "text": [
      "After SMOTE dataset shape Counter({1: 79631, 0: 73853})\n"
     ]
    }
   ],
   "source": [
    "from collections import Counter\n",
    "from imblearn.over_sampling import SMOTE\n",
    "from imblearn.combine import SMOTEENN, SMOTETomek\n",
    "sm = SMOTEENN()\n",
    "smote_features, smote_paid = sm.fit_sample(features_raw, paid_raw)\n",
    "print('After SMOTE dataset shape {}'.format(Counter(smote_paid)))"
   ]
  },
  {
   "cell_type": "code",
   "execution_count": 28,
   "metadata": {},
   "outputs": [],
   "source": [
    "# Initialize a scaler, then apply it to the features\n",
    "scaler = StandardScaler()\n",
    "scaled_smote_features = scaler.fit_transform(smote_features)"
   ]
  },
  {
   "cell_type": "code",
   "execution_count": 29,
   "metadata": {
    "collapsed": true
   },
   "outputs": [],
   "source": [
    "def split_train_test(data_x, data_y):\n",
    "    X_train, X_test, y_train, y_test = train_test_split(data_x, data_y, test_size=0.30, random_state=40)\n",
    "    return X_train, X_test, y_train, y_test"
   ]
  },
  {
   "cell_type": "code",
   "execution_count": 30,
   "metadata": {
    "collapsed": true
   },
   "outputs": [],
   "source": [
    "# Custom metrics for model validation\n",
    "def custom_metrics(y_true, y_pred):\n",
    "    return roc_auc_score(y_true, y_pred)"
   ]
  },
  {
   "cell_type": "markdown",
   "metadata": {},
   "source": [
    "# Initializing the ANN model with 3 hidden layers and 1 output layers"
   ]
  },
  {
   "cell_type": "markdown",
   "metadata": {},
   "source": [
    "I am going to use Relu as activation function in hidden layers as it handles vanishing/exploding gradient problems quites well and sigmoid in output layer as it is binary classification. Adam is used for optimization with binary_crossentropy loss. Metrics is logloss."
   ]
  },
  {
   "cell_type": "code",
   "execution_count": 44,
   "metadata": {
    "collapsed": true
   },
   "outputs": [],
   "source": [
    "def keras_classifier(X_train, y_train, class_weights = None, val_split = 0):\n",
    "    print(X_train.shape, y_train.shape)\n",
    "    # Initialising the ANN\n",
    "    classifier = Sequential()\n",
    "    sgd = SGD(lr=0.01, decay=1e-6, momentum=0.9, nesterov=True) # sgd is giving more loss\n",
    "    # Adding the input layer and the first hidden layer\n",
    "    classifier.add(Dense(units=128, kernel_initializer='normal', activation='relu', input_dim=X_train.shape[1], name = 'dense_1'))\n",
    "    classifier.add(BatchNormalization())\n",
    "    classifier.add(Dropout(0.5))\n",
    "    # Adding the second hidden layer\n",
    "    classifier.add(Dense(units=128, kernel_initializer='normal', activation='relu', name = 'dense_2'))\n",
    "    classifier.add(BatchNormalization())\n",
    "    classifier.add(Dropout(0.5))\n",
    "    # Adding the third hidden layer\n",
    "    classifier.add(Dense(units=64, kernel_initializer='normal', activation='relu', name = 'dense_3'))\n",
    "    classifier.add(BatchNormalization())\n",
    "    classifier.add(Dropout(0.5))\n",
    "    # Adding the output layer\n",
    "    classifier.add(Dense(units=1, kernel_initializer='normal', activation='sigmoid', name='dense_4'))\n",
    "    # Compiling the ANN\n",
    "    classifier.compile(optimizer=\"adam\", loss='binary_crossentropy', metrics=['accuracy'])\n",
    "    # Fitting the ANN to the Training set\n",
    "    history = classifier.fit(X_train, y_train, validation_split=val_split, class_weight = class_weight, batch_size=32, shuffle=True, epochs=50)\n",
    "    # Visualizing model\n",
    "    if val_split > 0.0:\n",
    "        vis_model(history)\n",
    "    classifier.save(keras_model_path)\n",
    "    classifier.save_weights(keras_model_weight_file)\n",
    "    return classifier"
   ]
  },
  {
   "cell_type": "markdown",
   "metadata": {},
   "source": [
    "# Visualize the model"
   ]
  },
  {
   "cell_type": "code",
   "execution_count": 45,
   "metadata": {
    "collapsed": true
   },
   "outputs": [],
   "source": [
    "def vis_model(history):\n",
    "    # print(history.history)\n",
    "    # summarize history for accuracy\n",
    "    plt.plot(history.history['acc'])\n",
    "    plt.plot(history.history['val_acc'])\n",
    "    plt.title('model accuracy')\n",
    "    plt.ylabel('accuracy')\n",
    "    plt.xlabel('epoch')\n",
    "    plt.legend(['train', 'test'], loc='upper left')\n",
    "    plt.show()\n",
    "    # summarize history for loss\n",
    "    plt.plot(history.history['loss'])\n",
    "    plt.plot(history.history['val_loss'])\n",
    "    plt.title('model loss')\n",
    "    plt.ylabel('loss')\n",
    "    plt.xlabel('epoch')\n",
    "    plt.legend(['train', 'test'], loc='upper left')\n",
    "    plt.show()"
   ]
  },
  {
   "cell_type": "markdown",
   "metadata": {},
   "source": [
    "# Plot confusion matrix"
   ]
  },
  {
   "cell_type": "code",
   "execution_count": 46,
   "metadata": {
    "collapsed": true
   },
   "outputs": [],
   "source": [
    "def plot_confusion_matrix(y_test, predicted_labels):\n",
    "    cm = confusion_matrix(y_test, predicted_labels)\n",
    "    cm = cm.astype('float') / cm.sum(axis=1)[:, np.newaxis] # normalize the data\n",
    "\n",
    "    # view with a heatmap\n",
    "    sns.heatmap(cm, annot=True, cmap='Blues', square=True, fmt='.4f')\n",
    "    plt.ylabel('True label')\n",
    "    plt.xlabel('Predicted label')\n",
    "    plt.title('Confusion matrix')\n",
    "    plt.show()"
   ]
  },
  {
   "cell_type": "markdown",
   "metadata": {},
   "source": [
    "# Get class weights"
   ]
  },
  {
   "cell_type": "code",
   "execution_count": 47,
   "metadata": {},
   "outputs": [
    {
     "name": "stdout",
     "output_type": "stream",
     "text": [
      "[ 1.03911825  0.96372016]\n"
     ]
    }
   ],
   "source": [
    "from sklearn.utils import class_weight\n",
    "class_weight = class_weight.compute_class_weight('balanced', np.unique(smote_paid), smote_paid)\n",
    "print(class_weight)"
   ]
  },
  {
   "cell_type": "markdown",
   "metadata": {},
   "source": [
    "# Start training and validating the NN model"
   ]
  },
  {
   "cell_type": "code",
   "execution_count": 48,
   "metadata": {},
   "outputs": [
    {
     "name": "stdout",
     "output_type": "stream",
     "text": [
      "(153484, 17) (153484,)\n",
      "Train on 115113 samples, validate on 38371 samples\n",
      "Epoch 1/50\n",
      "115113/115113 [==============================] - 16s - loss: 0.5023 - acc: 0.7659 - val_loss: 0.6587 - val_acc: 0.5864\n",
      "Epoch 2/50\n",
      "115113/115113 [==============================] - 19s - loss: 0.4362 - acc: 0.8149 - val_loss: 0.6133 - val_acc: 0.6018\n",
      "Epoch 3/50\n",
      "115113/115113 [==============================] - 18s - loss: 0.4180 - acc: 0.8231 - val_loss: 0.6227 - val_acc: 0.6052\n",
      "Epoch 4/50\n",
      "115113/115113 [==============================] - 17s - loss: 0.4101 - acc: 0.8281 - val_loss: 0.5327 - val_acc: 0.6252\n",
      "Epoch 5/50\n",
      "115113/115113 [==============================] - 16s - loss: 0.4112 - acc: 0.8274 - val_loss: 0.6125 - val_acc: 0.6023\n",
      "Epoch 6/50\n",
      "115113/115113 [==============================] - 18s - loss: 0.4101 - acc: 0.8276 - val_loss: 0.5577 - val_acc: 0.6155\n",
      "Epoch 7/50\n",
      "115113/115113 [==============================] - 19s - loss: 0.4039 - acc: 0.8296 - val_loss: 0.6631 - val_acc: 0.6004\n",
      "Epoch 8/50\n",
      "115113/115113 [==============================] - 16s - loss: 0.3977 - acc: 0.8333 - val_loss: 0.5419 - val_acc: 0.6386\n",
      "Epoch 9/50\n",
      "115113/115113 [==============================] - 16s - loss: 0.3937 - acc: 0.8350 - val_loss: 0.5791 - val_acc: 0.6197\n",
      "Epoch 10/50\n",
      "115113/115113 [==============================] - 14s - loss: 0.3975 - acc: 0.8355 - val_loss: 0.5191 - val_acc: 0.6398\n",
      "Epoch 11/50\n",
      "115113/115113 [==============================] - 14s - loss: 0.3951 - acc: 0.8348 - val_loss: 0.5817 - val_acc: 0.6175\n",
      "Epoch 12/50\n",
      "115113/115113 [==============================] - 14s - loss: 0.3913 - acc: 0.8381 - val_loss: 0.5930 - val_acc: 0.6315\n",
      "Epoch 13/50\n",
      "115113/115113 [==============================] - 17s - loss: 0.3858 - acc: 0.8408 - val_loss: 0.5292 - val_acc: 0.6406\n",
      "Epoch 14/50\n",
      "115113/115113 [==============================] - 15s - loss: 0.3916 - acc: 0.8370 - val_loss: 0.5040 - val_acc: 0.6436\n",
      "Epoch 15/50\n",
      "115113/115113 [==============================] - 14s - loss: 0.3870 - acc: 0.8399 - val_loss: 0.5398 - val_acc: 0.6322\n",
      "Epoch 16/50\n",
      "115113/115113 [==============================] - 14s - loss: 0.3897 - acc: 0.8388 - val_loss: 0.5829 - val_acc: 0.6320\n",
      "Epoch 17/50\n",
      "115113/115113 [==============================] - 16s - loss: 0.3871 - acc: 0.8402 - val_loss: 0.6004 - val_acc: 0.6196\n",
      "Epoch 18/50\n",
      "115113/115113 [==============================] - 14s - loss: 0.3857 - acc: 0.8405 - val_loss: 0.5287 - val_acc: 0.6444\n",
      "Epoch 19/50\n",
      "115113/115113 [==============================] - 18s - loss: 0.3845 - acc: 0.8404 - val_loss: 0.5235 - val_acc: 0.6435\n",
      "Epoch 20/50\n",
      "115113/115113 [==============================] - 19s - loss: 0.3857 - acc: 0.8412 - val_loss: 0.5522 - val_acc: 0.6414\n",
      "Epoch 21/50\n",
      "115113/115113 [==============================] - 17s - loss: 0.3863 - acc: 0.8408 - val_loss: 0.5715 - val_acc: 0.6341\n",
      "Epoch 22/50\n",
      "115113/115113 [==============================] - 16s - loss: 0.3867 - acc: 0.8419 - val_loss: 0.5585 - val_acc: 0.6451\n",
      "Epoch 23/50\n",
      "115113/115113 [==============================] - 15s - loss: 0.3888 - acc: 0.8405 - val_loss: 0.6156 - val_acc: 0.6336\n",
      "Epoch 24/50\n",
      "115113/115113 [==============================] - 14s - loss: 0.3882 - acc: 0.8411 - val_loss: 0.5740 - val_acc: 0.6266\n",
      "Epoch 25/50\n",
      "115113/115113 [==============================] - 14s - loss: 0.3841 - acc: 0.8429 - val_loss: 0.5974 - val_acc: 0.6342\n",
      "Epoch 26/50\n",
      "115113/115113 [==============================] - 15s - loss: 0.3846 - acc: 0.8441 - val_loss: 0.5053 - val_acc: 0.6569\n",
      "Epoch 27/50\n",
      "115113/115113 [==============================] - 15s - loss: 0.3872 - acc: 0.8419 - val_loss: 0.5048 - val_acc: 0.6563\n",
      "Epoch 28/50\n",
      "115113/115113 [==============================] - 14s - loss: 0.3838 - acc: 0.8445 - val_loss: 0.5470 - val_acc: 0.6495\n",
      "Epoch 29/50\n",
      "115113/115113 [==============================] - 14s - loss: 0.3857 - acc: 0.8422 - val_loss: 0.5423 - val_acc: 0.6501\n",
      "Epoch 30/50\n",
      "115113/115113 [==============================] - 14s - loss: 0.3822 - acc: 0.8446 - val_loss: 0.5376 - val_acc: 0.6573\n",
      "Epoch 31/50\n",
      "115113/115113 [==============================] - 14s - loss: 0.3836 - acc: 0.8440 - val_loss: 0.5982 - val_acc: 0.6295\n",
      "Epoch 32/50\n",
      "115113/115113 [==============================] - 15s - loss: 0.3846 - acc: 0.8451 - val_loss: 0.5230 - val_acc: 0.6609\n",
      "Epoch 33/50\n",
      "115113/115113 [==============================] - 15s - loss: 0.3839 - acc: 0.8434 - val_loss: 0.5227 - val_acc: 0.6565\n",
      "Epoch 34/50\n",
      "115113/115113 [==============================] - 15s - loss: 0.3817 - acc: 0.8452 - val_loss: 0.4946 - val_acc: 0.6696\n",
      "Epoch 35/50\n",
      "115113/115113 [==============================] - 14s - loss: 0.3864 - acc: 0.8432 - val_loss: 0.5835 - val_acc: 0.6460\n",
      "Epoch 36/50\n",
      "115113/115113 [==============================] - 14s - loss: 0.3885 - acc: 0.8417 - val_loss: 0.5556 - val_acc: 0.6499\n",
      "Epoch 37/50\n",
      "115113/115113 [==============================] - 14s - loss: 0.3899 - acc: 0.8417 - val_loss: 0.5512 - val_acc: 0.6567\n",
      "Epoch 38/50\n",
      "115113/115113 [==============================] - 14s - loss: 0.3865 - acc: 0.8425 - val_loss: 0.5629 - val_acc: 0.6487\n",
      "Epoch 39/50\n",
      "115113/115113 [==============================] - 14s - loss: 0.3890 - acc: 0.8422 - val_loss: 0.5441 - val_acc: 0.6555\n",
      "Epoch 40/50\n",
      "115113/115113 [==============================] - 14s - loss: 0.3904 - acc: 0.8407 - val_loss: 0.5766 - val_acc: 0.6426\n",
      "Epoch 41/50\n",
      "115113/115113 [==============================] - 14s - loss: 0.3901 - acc: 0.8403 - val_loss: 0.5430 - val_acc: 0.6597\n",
      "Epoch 42/50\n",
      "115113/115113 [==============================] - 14s - loss: 0.3895 - acc: 0.8418 - val_loss: 0.5379 - val_acc: 0.6551\n",
      "Epoch 43/50\n",
      "115113/115113 [==============================] - 14s - loss: 0.3867 - acc: 0.8433 - val_loss: 0.5492 - val_acc: 0.6454\n",
      "Epoch 44/50\n",
      "115113/115113 [==============================] - 14s - loss: 0.3858 - acc: 0.8445 - val_loss: 0.5538 - val_acc: 0.6566\n",
      "Epoch 45/50\n",
      "115113/115113 [==============================] - 14s - loss: 0.3887 - acc: 0.8416 - val_loss: 0.5296 - val_acc: 0.6616\n",
      "Epoch 46/50\n",
      "115113/115113 [==============================] - 14s - loss: 0.3869 - acc: 0.8433 - val_loss: 0.5199 - val_acc: 0.6626\n",
      "Epoch 47/50\n",
      "115113/115113 [==============================] - 14s - loss: 0.3902 - acc: 0.8408 - val_loss: 0.5541 - val_acc: 0.6445\n",
      "Epoch 48/50\n",
      "115113/115113 [==============================] - 14s - loss: 0.3883 - acc: 0.8438 - val_loss: 0.5628 - val_acc: 0.6584\n",
      "Epoch 49/50\n",
      "115113/115113 [==============================] - 14s - loss: 0.3918 - acc: 0.8415 - val_loss: 0.5466 - val_acc: 0.6501\n",
      "Epoch 50/50\n",
      "115113/115113 [==============================] - 14s - loss: 0.3895 - acc: 0.8430 - val_loss: 0.5192 - val_acc: 0.6615\n"
     ]
    },
    {
     "data": {
      "image/png": "[encoded data removed]",
      "text/plain": [
       "<matplotlib.figure.Figure at 0x25517eb8fd0>"
      ]
     },
     "metadata": {},
     "output_type": "display_data"
    },
    {
     "data": {
      "image/png": "[encoded data removed]",
      "text/plain": [
       "<matplotlib.figure.Figure at 0x25506d186d8>"
      ]
     },
     "metadata": {},
     "output_type": "display_data"
    }
   ],
   "source": [
    "# for imbalance data\n",
    "model = keras_classifier(scaled_smote_features, smote_paid, val_split = 0.25)"
   ]
  },
  {
   "cell_type": "markdown",
   "metadata": {},
   "source": [
    "Running on high epoch can increase the validation accuracy, but the result is not promising here. ML models are working far better on oversampled data than NN models."
   ]
  },
  {
   "cell_type": "code",
   "execution_count": 14,
   "metadata": {},
   "outputs": [
    {
     "name": "stdout",
     "output_type": "stream",
     "text": [
      "_________________________________________________________________\n",
      "Layer (type)                 Output Shape              Param #   \n",
      "=================================================================\n",
      "dense_1 (Dense)              (None, 128)               2304      \n",
      "_________________________________________________________________\n",
      "batch_normalization_1 (Batch (None, 128)               512       \n",
      "_________________________________________________________________\n",
      "dropout_1 (Dropout)          (None, 128)               0         \n",
      "_________________________________________________________________\n",
      "dense_2 (Dense)              (None, 128)               16512     \n",
      "_________________________________________________________________\n",
      "batch_normalization_2 (Batch (None, 128)               512       \n",
      "_________________________________________________________________\n",
      "dropout_2 (Dropout)          (None, 128)               0         \n",
      "_________________________________________________________________\n",
      "dense_3 (Dense)              (None, 64)                8256      \n",
      "_________________________________________________________________\n",
      "batch_normalization_3 (Batch (None, 64)                256       \n",
      "_________________________________________________________________\n",
      "dropout_3 (Dropout)          (None, 64)                0         \n",
      "_________________________________________________________________\n",
      "dense_4 (Dense)              (None, 1)                 65        \n",
      "=================================================================\n",
      "Total params: 28,417\n",
      "Trainable params: 27,777\n",
      "Non-trainable params: 640\n",
      "_________________________________________________________________\n"
     ]
    }
   ],
   "source": [
    "model.summary()"
   ]
  },
  {
   "cell_type": "code",
   "execution_count": 37,
   "metadata": {},
   "outputs": [
    {
     "name": "stdout",
     "output_type": "stream",
     "text": [
      "class_weieght:  [ 1.03792797  0.96474624]\n",
      "Training started... Please wait...\n",
      "(107438, 17) (107438,)\n",
      "Epoch 1/50\n",
      "107438/107438 [==============================] - 14s - loss: 0.5360 - acc: 0.7135    \n",
      "Epoch 2/50\n",
      "107438/107438 [==============================] - 13s - loss: 0.4682 - acc: 0.7620    \n",
      "Epoch 3/50\n",
      "107438/107438 [==============================] - 13s - loss: 0.4578 - acc: 0.7688    \n",
      "Epoch 4/50\n",
      "107438/107438 [==============================] - 14s - loss: 0.4500 - acc: 0.7720    \n",
      "Epoch 5/50\n",
      "107438/107438 [==============================] - 13s - loss: 0.4447 - acc: 0.7763    \n",
      "Epoch 6/50\n",
      "107438/107438 [==============================] - 13s - loss: 0.4413 - acc: 0.7796    \n",
      "Epoch 7/50\n",
      "107438/107438 [==============================] - 14s - loss: 0.4342 - acc: 0.7817    \n",
      "Epoch 8/50\n",
      "107438/107438 [==============================] - 15s - loss: 0.4350 - acc: 0.7822    \n",
      "Epoch 9/50\n",
      "107438/107438 [==============================] - 16s - loss: 0.4328 - acc: 0.7850    \n",
      "Epoch 10/50\n",
      "107438/107438 [==============================] - 16s - loss: 0.4347 - acc: 0.7832    \n",
      "Epoch 11/50\n",
      "107438/107438 [==============================] - 15s - loss: 0.4364 - acc: 0.7837    \n",
      "Epoch 12/50\n",
      "107438/107438 [==============================] - 14s - loss: 0.4265 - acc: 0.7877    \n",
      "Epoch 13/50\n",
      "107438/107438 [==============================] - 14s - loss: 0.4275 - acc: 0.7877    \n",
      "Epoch 14/50\n",
      "107438/107438 [==============================] - 14s - loss: 0.4244 - acc: 0.7911    \n",
      "Epoch 15/50\n",
      "107438/107438 [==============================] - 13s - loss: 0.4276 - acc: 0.7894    \n",
      "Epoch 16/50\n",
      "107438/107438 [==============================] - 13s - loss: 0.4249 - acc: 0.7909    \n",
      "Epoch 17/50\n",
      "107438/107438 [==============================] - 14s - loss: 0.4243 - acc: 0.7901    \n",
      "Epoch 18/50\n",
      "107438/107438 [==============================] - 13s - loss: 0.4232 - acc: 0.7899    \n",
      "Epoch 19/50\n",
      "107438/107438 [==============================] - 14s - loss: 0.4209 - acc: 0.7910    \n",
      "Epoch 20/50\n",
      "107438/107438 [==============================] - 13s - loss: 0.4278 - acc: 0.7879    \n",
      "Epoch 21/50\n",
      "107438/107438 [==============================] - 13s - loss: 0.4267 - acc: 0.7911    \n",
      "Epoch 22/50\n",
      "107438/107438 [==============================] - 13s - loss: 0.4276 - acc: 0.7897    \n",
      "Epoch 23/50\n",
      "107438/107438 [==============================] - 12s - loss: 0.4284 - acc: 0.7881    \n",
      "Epoch 24/50\n",
      "107438/107438 [==============================] - 13s - loss: 0.4308 - acc: 0.7860    \n",
      "Epoch 25/50\n",
      "107438/107438 [==============================] - 12s - loss: 0.4225 - acc: 0.7907    \n",
      "Epoch 26/50\n",
      "107438/107438 [==============================] - 13s - loss: 0.4247 - acc: 0.7903    \n",
      "Epoch 27/50\n",
      "107438/107438 [==============================] - 14s - loss: 0.4310 - acc: 0.7852    \n",
      "Epoch 28/50\n",
      "107438/107438 [==============================] - 13s - loss: 0.4299 - acc: 0.7865    \n",
      "Epoch 29/50\n",
      "107438/107438 [==============================] - 12s - loss: 0.4336 - acc: 0.7843    \n",
      "Epoch 30/50\n",
      "107438/107438 [==============================] - 12s - loss: 0.4354 - acc: 0.7852    \n",
      "Epoch 31/50\n",
      "107438/107438 [==============================] - 12s - loss: 0.4303 - acc: 0.7899    \n",
      "Epoch 32/50\n",
      "107438/107438 [==============================] - 12s - loss: 0.4271 - acc: 0.7914    \n",
      "Epoch 33/50\n",
      "107438/107438 [==============================] - 12s - loss: 0.4293 - acc: 0.7888    \n",
      "Epoch 34/50\n",
      "107438/107438 [==============================] - 12s - loss: 0.4242 - acc: 0.7915    \n",
      "Epoch 35/50\n",
      "107438/107438 [==============================] - 12s - loss: 0.4259 - acc: 0.7933    \n",
      "Epoch 36/50\n",
      "107438/107438 [==============================] - 14s - loss: 0.4235 - acc: 0.7948    \n",
      "Epoch 37/50\n",
      "107438/107438 [==============================] - 13s - loss: 0.4222 - acc: 0.7943    \n",
      "Epoch 38/50\n",
      "107438/107438 [==============================] - 12s - loss: 0.4287 - acc: 0.7915    \n",
      "Epoch 39/50\n",
      "107438/107438 [==============================] - 13s - loss: 0.4288 - acc: 0.7905    \n",
      "Epoch 40/50\n",
      "107438/107438 [==============================] - 13s - loss: 0.4254 - acc: 0.7934    \n",
      "Epoch 41/50\n",
      "107438/107438 [==============================] - 13s - loss: 0.4269 - acc: 0.7929    \n",
      "Epoch 42/50\n",
      "107438/107438 [==============================] - 13s - loss: 0.4448 - acc: 0.7834    \n",
      "Epoch 43/50\n",
      "107438/107438 [==============================] - 13s - loss: 0.4497 - acc: 0.7813    \n",
      "Epoch 44/50\n",
      "107438/107438 [==============================] - 13s - loss: 0.4442 - acc: 0.7833    \n",
      "Epoch 45/50\n",
      "107438/107438 [==============================] - 14s - loss: 0.4545 - acc: 0.7738    \n",
      "Epoch 46/50\n",
      "107438/107438 [==============================] - 12s - loss: 0.4601 - acc: 0.7731    \n",
      "Epoch 47/50\n",
      "107438/107438 [==============================] - 12s - loss: 0.4489 - acc: 0.7820    \n",
      "Epoch 48/50\n",
      "107438/107438 [==============================] - 13s - loss: 0.4408 - acc: 0.7848    \n",
      "Epoch 49/50\n",
      "107438/107438 [==============================] - 12s - loss: 0.4440 - acc: 0.7794    \n",
      "Epoch 50/50\n",
      "107438/107438 [==============================] - 12s - loss: 0.4518 - acc: 0.7776    \n",
      "Done Training...\n"
     ]
    }
   ],
   "source": [
    "X_train, X_test, y_train, y_test = split_train_test(scaled_smote_features, smote_paid)\n",
    "\n",
    "# Assigning more weights to the less represented data\n",
    "from sklearn.utils import class_weight\n",
    "class_weight = class_weight.compute_class_weight('balanced', np.unique(y_train), y_train)\n",
    "print(\"class_weieght: \", class_weight)\n",
    "\n",
    "# for imbalance data\n",
    "print(\"Training started... Please wait...\")\n",
    "model = keras_classifier(X_train, y_train, class_weight)\n",
    "print(\"Done Training...\")"
   ]
  },
  {
   "cell_type": "code",
   "execution_count": 38,
   "metadata": {},
   "outputs": [
    {
     "name": "stdout",
     "output_type": "stream",
     "text": [
      "acc: 83.75%\n"
     ]
    },
    {
     "data": {
      "image/png": "[encoded data removed]",
      "text/plain": [
       "<matplotlib.figure.Figure at 0x25506b4e320>"
      ]
     },
     "metadata": {},
     "output_type": "display_data"
    }
   ],
   "source": [
    "X_test = np.array(X_test)\n",
    "predict_val = model.predict(X_test)\n",
    "predict_val = [1 if each >= 0.5 else 0 for each in predict_val]\n",
    "predict_df = pd.Series(predict_val)\n",
    "\n",
    "scores = model.evaluate(X_test, y_test, verbose = 0)\n",
    "print(\"%s: %.2f%%\" % (model.metrics_names[1], scores[1]*100))\n",
    "\n",
    "plot_confusion_matrix(y_test, predict_df)"
   ]
  },
  {
   "cell_type": "code",
   "execution_count": 41,
   "metadata": {},
   "outputs": [],
   "source": [
    "fpr, tpr, threshold = roc_curve(y_test, predict_df)\n",
    "roc_auc = roc_auc_score(y_test, predict_df)"
   ]
  },
  {
   "cell_type": "code",
   "execution_count": 42,
   "metadata": {},
   "outputs": [
    {
     "data": {
      "image/png": "[encoded data removed]",
      "text/plain": [
       "<matplotlib.figure.Figure at 0x2550d357da0>"
      ]
     },
     "metadata": {},
     "output_type": "display_data"
    }
   ],
   "source": [
    "import matplotlib.pyplot as plt\n",
    "plt.title('ROC Curve')\n",
    "plt.plot(fpr, tpr, 'b', label = 'AUC = %0.2f' % roc_auc)\n",
    "plt.legend(loc = 'lower right')\n",
    "plt.plot([0, 1], [0, 1],'r--')\n",
    "plt.xlim([0, 1])\n",
    "plt.ylim([0, 1])\n",
    "plt.ylabel('True Positive Rate')\n",
    "plt.xlabel('False Positive Rate')\n",
    "plt.show()"
   ]
  }
 ],
 "metadata": {
  "kernelspec": {
   "display_name": "Python 3",
   "language": "python",
   "name": "python3"
  },
  "language_info": {
   "codemirror_mode": {
    "name": "ipython",
    "version": 3
   },
   "file_extension": ".py",
   "mimetype": "text/x-python",
   "name": "python",
   "nbconvert_exporter": "python",
   "pygments_lexer": "ipython3",
   "version": "3.6.1"
  }
 },
 "nbformat": 4,
 "nbformat_minor": 2
}
