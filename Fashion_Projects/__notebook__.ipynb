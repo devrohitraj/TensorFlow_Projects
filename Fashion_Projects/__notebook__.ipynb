{
 "cells": [
  {
   "cell_type": "code",
   "execution_count": 1,
   "metadata": {
    "_cell_guid": "003a34b4-ea58-413c-8ee5-dda6c041ded7",
    "_uuid": "14112d83eff81bcfed3d8b0fdf8b4fc37af7d92b"
   },
   "outputs": [
    {
     "name": "stdout",
     "output_type": "stream",
     "text": [
      "sample_submission.csv\n",
      "test.json\n",
      "train.json\n",
      "\n"
     ]
    }
   ],
   "source": [
    "import numpy as np # linear algebra\n",
    "import pandas as pd # data processing, CSV file I/O (e.g. pd.read_csv)\n",
    "\n",
    "from subprocess import check_output\n",
    "print(check_output([\"ls\", \"../input\"]).decode(\"utf8\"))"
   ]
  },
  {
   "cell_type": "code",
   "execution_count": 2,
   "metadata": {
    "_cell_guid": "29a5f133-81c7-486a-82c7-5e643b648e22",
    "_uuid": "4b01d4e424cec7956507f5ac8179049bcd2f0235",
    "collapsed": true
   },
   "outputs": [],
   "source": [
    "train_df = pd.read_json(\"../input/train.json\")\n",
    "test_df = pd.read_json(\"../input/test.json\")"
   ]
  },
  {
   "cell_type": "code",
   "execution_count": 3,
   "metadata": {
    "_cell_guid": "2a419a87-0630-4794-8e5b-dff560d2d116",
    "_uuid": "b2eb784dbc8a40a145c5cdad2f6ca929e165ce95"
   },
   "outputs": [
    {
     "name": "stdout",
     "output_type": "stream",
     "text": [
      "Xtrain: (1604, 75, 75, 2)\n",
      "Xtest: (8424, 75, 75, 2)\n"
     ]
    }
   ],
   "source": [
    "# Train data\n",
    "x_band1 = np.array([np.array(band).astype(np.float32).reshape(75, 75) for band in train_df[\"band_1\"]])\n",
    "x_band2 = np.array([np.array(band).astype(np.float32).reshape(75, 75) for band in train_df[\"band_2\"]])\n",
    "X_train = np.concatenate([x_band1[:, :, :, np.newaxis], x_band2[:, :, :, np.newaxis]], axis=-1)\n",
    "y_train = np.array(train_df[\"is_iceberg\"])\n",
    "print(\"Xtrain:\", X_train.shape)\n",
    "\n",
    "# Test data\n",
    "x_band1 = np.array([np.array(band).astype(np.float32).reshape(75, 75) for band in test_df[\"band_1\"]])\n",
    "x_band2 = np.array([np.array(band).astype(np.float32).reshape(75, 75) for band in test_df[\"band_2\"]])\n",
    "X_test = np.concatenate([x_band1[:, :, :, np.newaxis], x_band2[:, :, :, np.newaxis]], axis=-1)\n",
    "print(\"Xtest:\", X_test.shape)"
   ]
  },
  {
   "cell_type": "markdown",
   "metadata": {
    "_cell_guid": "66fe501a-a946-4a8a-856c-a2a1a7572235",
    "_uuid": "e979cd2f0273fa0d0d46b23f240db5090ca766c2"
   },
   "source": [
    "# Simple keras model"
   ]
  },
  {
   "cell_type": "code",
   "execution_count": 4,
   "metadata": {
    "_cell_guid": "0b86febb-1189-4224-888c-e346c671b19f",
    "_uuid": "d13e3791dba6aad46b43ec6cc799ec1a508c5510"
   },
   "outputs": [
    {
     "name": "stderr",
     "output_type": "stream",
     "text": [
      "Using TensorFlow backend.\n"
     ]
    }
   ],
   "source": [
    "from keras.models import Sequential\n",
    "from keras.layers import Convolution2D, GlobalAveragePooling2D, Dense, Dropout\n"
   ]
  },
  {
   "cell_type": "code",
   "execution_count": 5,
   "metadata": {
    "_cell_guid": "87c1d8f1-0167-4b6a-82fb-c0627d6837c2",
    "_uuid": "9e5fcc0c771c4b9e65a5057900e98f5fbd55962a"
   },
   "outputs": [
    {
     "name": "stdout",
     "output_type": "stream",
     "text": [
      "_________________________________________________________________\n",
      "Layer (type)                 Output Shape              Param #   \n",
      "=================================================================\n",
      "conv2d_1 (Conv2D)            (None, 73, 73, 32)        608       \n",
      "_________________________________________________________________\n",
      "conv2d_2 (Conv2D)            (None, 71, 71, 64)        18496     \n",
      "_________________________________________________________________\n",
      "global_average_pooling2d_1 ( (None, 64)                0         \n",
      "_________________________________________________________________\n",
      "dropout_1 (Dropout)          (None, 64)                0         \n",
      "_________________________________________________________________\n",
      "dense_1 (Dense)              (None, 1)                 65        \n",
      "=================================================================\n",
      "Total params: 19,169\n",
      "Trainable params: 19,169\n",
      "Non-trainable params: 0\n",
      "_________________________________________________________________\n"
     ]
    }
   ],
   "source": [
    "model = Sequential()\n",
    "model.add(Convolution2D(32, 3, activation=\"relu\", input_shape=(75, 75, 2)))\n",
    "model.add(Convolution2D(64, 3, activation=\"relu\", input_shape=(75, 75, 2)))\n",
    "model.add(GlobalAveragePooling2D())\n",
    "model.add(Dropout(0.3))\n",
    "model.add(Dense(1, activation=\"sigmoid\"))\n",
    "model.compile(\"adam\", \"binary_crossentropy\", metrics=[\"accuracy\"])\n",
    "model.summary()"
   ]
  },
  {
   "cell_type": "code",
   "execution_count": 6,
   "metadata": {
    "_cell_guid": "d4187a34-08e2-4ea6-803a-7f90bca5f76b",
    "_uuid": "a84be420d8c8f3d23611c018261d4c636cf202c6"
   },
   "outputs": [
    {
     "name": "stdout",
     "output_type": "stream",
     "text": [
      "Train on 1283 samples, validate on 321 samples\n",
      "Epoch 1/10\n",
      "1283/1283 [==============================] - 26s - loss: 0.9782 - acc: 0.5261 - val_loss: 0.7369 - val_acc: 0.4704\n",
      "Epoch 2/10\n",
      "1283/1283 [==============================] - 26s - loss: 0.6270 - acc: 0.6415 - val_loss: 0.6820 - val_acc: 0.5047\n",
      "Epoch 3/10\n",
      "1283/1283 [==============================] - 25s - loss: 0.5892 - acc: 0.6695 - val_loss: 0.6276 - val_acc: 0.5109\n",
      "Epoch 4/10\n",
      "1283/1283 [==============================] - 25s - loss: 0.5711 - acc: 0.6890 - val_loss: 0.6486 - val_acc: 0.5171\n",
      "Epoch 5/10\n",
      "1283/1283 [==============================] - 25s - loss: 0.5664 - acc: 0.6921 - val_loss: 0.6071 - val_acc: 0.5234\n",
      "Epoch 6/10\n",
      "1283/1283 [==============================] - 25s - loss: 0.5627 - acc: 0.6913 - val_loss: 0.6545 - val_acc: 0.5296\n",
      "Epoch 7/10\n",
      "1283/1283 [==============================] - 26s - loss: 0.5598 - acc: 0.6968 - val_loss: 0.6611 - val_acc: 0.5296\n",
      "Epoch 8/10\n",
      "1283/1283 [==============================] - 26s - loss: 0.5502 - acc: 0.7038 - val_loss: 0.6360 - val_acc: 0.5389\n",
      "Epoch 9/10\n",
      "1283/1283 [==============================] - 28s - loss: 0.5407 - acc: 0.7101 - val_loss: 0.6372 - val_acc: 0.5389\n",
      "Epoch 10/10\n",
      "1283/1283 [==============================] - 27s - loss: 0.5317 - acc: 0.7140 - val_loss: 0.5848 - val_acc: 0.5919\n"
     ]
    },
    {
     "data": {
      "text/plain": [
       "<keras.callbacks.History at 0x7fac4d970630>"
      ]
     },
     "execution_count": 6,
     "metadata": {},
     "output_type": "execute_result"
    }
   ],
   "source": [
    "model.fit(X_train, y_train, validation_split=0.2)"
   ]
  },
  {
   "cell_type": "code",
   "execution_count": 7,
   "metadata": {
    "_cell_guid": "78dbcf6c-a7ba-49c7-a459-20bed13a2219",
    "_uuid": "df1410c2fb4d4f124ba89602b3f669de7018728a"
   },
   "outputs": [
    {
     "name": "stdout",
     "output_type": "stream",
     "text": [
      "8424/8424 [==============================] - 47s    \n"
     ]
    }
   ],
   "source": [
    "# Make predictions\n",
    "prediction = model.predict(X_test, verbose=1)"
   ]
  },
  {
   "cell_type": "code",
   "execution_count": 8,
   "metadata": {
    "_cell_guid": "52766228-cf82-4cc8-9671-d8391d294bbb",
    "_uuid": "a656b27ff563fd4e69c43393280b9227e44aac74"
   },
   "outputs": [],
   "source": [
    "submit_df = pd.DataFrame({'id': test_df[\"id\"], 'is_iceberg': prediction.flatten()})\n",
    "submit_df.to_csv(\"./naive_submission.csv\", index=False)"
   ]
  },
  {
   "cell_type": "markdown",
   "metadata": {
    "_cell_guid": "a85e2471-926a-4b6b-99ce-f467bf02c9be",
    "_uuid": "02c52764188c9e833199f387b65bc3dcedbb0efa"
   },
   "source": [
    "# Conclusion\n",
    "No free lunch! Happy hyperparameter tuning.\n"
   ]
  }
 ],
 "metadata": {
  "kernelspec": {
   "display_name": "Python 3",
   "language": "python",
   "name": "python3"
  },
  "language_info": {
   "codemirror_mode": {
    "name": "ipython",
    "version": 3
   },
   "file_extension": ".py",
   "mimetype": "text/x-python",
   "name": "python",
   "nbconvert_exporter": "python",
   "pygments_lexer": "ipython3",
   "version": "3.6.3"
  }
 },
 "nbformat": 4,
 "nbformat_minor": 1
}
